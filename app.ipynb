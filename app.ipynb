{
 "cells": [
  {
   "cell_type": "code",
   "execution_count": 227,
   "metadata": {},
   "outputs": [],
   "source": [
    "import os\n",
    "from glob import glob\n",
    "import pandas as pd\n",
    "from functools import reduce\n",
    "from xml.etree import ElementTree as et\n",
    "from PIL import Image\n",
    "import matplotlib.pyplot as plt\n",
    "import numpy as np\n",
    "import albumentations as A\n",
    "import cv2\n",
    "import random\n",
    "import numpy as np"
   ]
  },
  {
   "cell_type": "code",
   "execution_count": 242,
   "metadata": {},
   "outputs": [
    {
     "name": "stdout",
     "output_type": "stream",
     "text": [
      "['./dataset/train/labels/image1.txt', './dataset/train/labels/image2.txt']\n"
     ]
    }
   ],
   "source": [
    "base_dir = './dataset/train/labels'\n",
    "txt_list = glob(base_dir + '/**/*.txt', recursive = True)\n",
    "print(txt_list)\n"
   ]
  },
  {
   "cell_type": "code",
   "execution_count": 243,
   "metadata": {},
   "outputs": [
    {
     "name": "stdout",
     "output_type": "stream",
     "text": [
      "['image1.txt']\n",
      "[[1, 0.284, 0.524, 0.554, 0.902], [0, 0.666, 0.612, 0.202, 0.574]]\n",
      "['image2.txt']\n",
      "[[1, 0.46, 0.464, 0.79, 0.856]]\n"
     ]
    }
   ],
   "source": [
    "\n",
    "# Function to read and process the file\n",
    "def extract_data(file_path):\n",
    "    # Initialize an empty list to store the data\n",
    "    data = []\n",
    "    \n",
    "    # Open the file in read mode\n",
    "    with open(file_path, 'r') as file:\n",
    "        # Read all lines in the file\n",
    "        lines = file.readlines()\n",
    "        \n",
    "        # Process each line\n",
    "        for line in lines:\n",
    "            # Strip any leading/trailing whitespace and split by spaces\n",
    "            elements = line.strip().split()\n",
    "            \n",
    "            # Convert the elements to the appropriate type (e.g., float)\n",
    "            elements = [float(e) if '.' in e else int(e) for e in elements]\n",
    "            \n",
    "            # Append the processed elements to the data list\n",
    "            data.append(elements)\n",
    "    \n",
    "    return data\n",
    "\n",
    "parser = []\n",
    "for file in txt_list:\n",
    "    data = extract_data(file)\n",
    "    file_name = [os.path.basename(file)]\n",
    "    print(file_name)\n",
    "    print(data)\n",
    "    parser.append([file_name, data])\n"
   ]
  },
  {
   "cell_type": "code",
   "execution_count": 244,
   "metadata": {},
   "outputs": [],
   "source": [
    "del df\n",
    "del result_df"
   ]
  },
  {
   "cell_type": "code",
   "execution_count": 245,
   "metadata": {},
   "outputs": [
    {
     "name": "stdout",
     "output_type": "stream",
     "text": [
      "    file_name  label  x_center  y_center  width  height\n",
      "0  image1.txt      1     0.284     0.524  0.554   0.902\n",
      "1  image1.txt      0     0.666     0.612  0.202   0.574\n",
      "2  image2.txt      1     0.460     0.464  0.790   0.856\n"
     ]
    }
   ],
   "source": [
    "\n",
    "# Create an empty list to store DataFrames\n",
    "df_list = []\n",
    "\n",
    "# Loop over the parser data\n",
    "for file_data in parser:\n",
    "    file_name = file_data[0]\n",
    "    data = file_data[1]\n",
    "    \n",
    "    # Create a DataFrame for the current file\n",
    "    df = pd.DataFrame(data, columns=['label', 'x_center', 'y_center', 'width', 'height'])\n",
    "    \n",
    "    # Add the file name column, repeating the file name for each row\n",
    "    df['file_name'] = file_name * len(df)\n",
    "    \n",
    "    # Append the DataFrame to the list\n",
    "    df_list.append(df)\n",
    "\n",
    "# Concatenate all DataFrames into a single DataFrame\n",
    "result_df = pd.concat(df_list, ignore_index=True)\n",
    "\n",
    "# Reorder columns to have file name first\n",
    "result_df = result_df[['file_name', 'label', 'x_center', 'y_center', 'width', 'height']]\n",
    "\n",
    "print(result_df)\n"
   ]
  },
  {
   "cell_type": "code",
   "execution_count": 246,
   "metadata": {},
   "outputs": [],
   "source": [
    "\n",
    "# Function to apply the augmentation\n",
    "def augment_data(image,image_name,df):\n",
    "    bboxes = []\n",
    "   \n",
    "    image = np.array(image)\n",
    "\n",
    "    group = df[df['file_name'] == image_name]\n",
    "        # Get bounding boxes on coordinates of the image\n",
    "    for index, row in group.iterrows():\n",
    "            \n",
    "            bboxes.append([row['x_center'], row['y_center'], row['width'], row['height'],row['label']])\n",
    "\n",
    "    bbox_params = A.BboxParams(format='yolo', min_visibility=0.7)\n",
    "    \n",
    "    transform = A.Compose([\n",
    "                               A.HorizontalFlip(p=0.5),\n",
    "                               A.VerticalFlip(p=0.5)\n",
    "                               #A.RandomBrightnessContrast(p=0.5),\n",
    "                               #A.RGBShift(r_shift_limit=30, g_shift_limit=30, b_shift_limit=30, p=0.5)\n",
    "                               ],  \n",
    "                               bbox_params = bbox_params)\n",
    "    transformed = transform(image=image, bboxes=bboxes)\n",
    "    transformed_image = transformed['image']\n",
    "    transformed_bbox = transformed['bboxes']\n",
    "\n",
    "    return(transformed_image, transformed_bbox)\n"
   ]
  },
  {
   "cell_type": "code",
   "execution_count": 247,
   "metadata": {},
   "outputs": [],
   "source": [
    "# Function to write bounding box coordinates to a text file in YOLO format\n",
    "def write_bboxes_to_txt(bboxes, filepath):\n",
    "    with open(filepath, 'w') as file:\n",
    "        for bbox in bboxes:\n",
    "            x_center, y_center, width, height, label = bbox\n",
    "            line = f\"{label} {x_center} {y_center} {width} {height}\\n\"\n",
    "            file.write(line)\n",
    "\n",
    "# Usage example\n",
    "\n"
   ]
  },
  {
   "cell_type": "code",
   "execution_count": 248,
   "metadata": {},
   "outputs": [],
   "source": [
    "import pybboxes as pbx\n",
    "\n",
    "def draw_yolo(image, labels, file_name):\n",
    "    labelled_folder = './dataset/train/augmentation_labelled'\n",
    "    os.makedirs(labelled_folder, exist_ok=True)\n",
    "\n",
    "    H, W = image.shape[:2]\n",
    "\n",
    "    for label in labels:\n",
    "        yolo_normalized = label[0:-1]\n",
    "        box_voc = pbx.convert_bbox(tuple(yolo_normalized), from_type=\"yolo\", to_type=\"voc\", image_size=(W, H))\n",
    "        cv2.rectangle(image, (box_voc[0], box_voc[1]),\n",
    "                      (box_voc[2], box_voc[3]), (0, 255, 0), 2)\n",
    "    cv2.imwrite(f\"{labelled_folder}/{file_name}\", image)"
   ]
  },
  {
   "cell_type": "code",
   "execution_count": 260,
   "metadata": {},
   "outputs": [
    {
     "name": "stdout",
     "output_type": "stream",
     "text": [
      "Processing the file :  image1 \n",
      "\n",
      "Processing the file :  image2 \n",
      "\n"
     ]
    }
   ],
   "source": [
    "original_folder = './dataset/train/images'\n",
    "images_names = [f for f in os.listdir(original_folder) if f.endswith(('.jpg', '.jpeg', '.png'))]\n",
    "augmented_folder = './dataset/train/augmentation'\n",
    "\n",
    "os.makedirs(augmented_folder, exist_ok=True)\n",
    "\n",
    "\n",
    "for image_name in images_names:\n",
    "    image_path = os.path.join(original_folder, image_name)\n",
    "    image = cv2.imread(image_path)\n",
    "    base_filename = os.path.splitext(os.path.basename(image_path))[0]\n",
    "    print(\"Processing the file : \",base_filename, \"\\n\")\n",
    "    new_image_name = base_filename + '_augment.jpg'\n",
    "    new_txt_name = base_filename + '_augment.txt'\n",
    "\n",
    "    output_path_image = os.path.join(augmented_folder, new_image_name)\n",
    "    output_path_txt = os.path.join(augmented_folder, new_txt_name)\n",
    "    \n",
    "    transformed_image,transformed_bbox  = augment_data(image, (base_filename + \".txt\"), result_df)\n",
    "    cv2.imwrite(output_path_image, transformed_image)\n",
    "    \n",
    "    write_bboxes_to_txt(transformed_bbox, output_path_txt)\n",
    "    draw_yolo(transformed_image, transformed_bbox, image_name)"
   ]
  }
 ],
 "metadata": {
  "kernelspec": {
   "display_name": "Python 3",
   "language": "python",
   "name": "python3"
  },
  "language_info": {
   "codemirror_mode": {
    "name": "ipython",
    "version": 3
   },
   "file_extension": ".py",
   "mimetype": "text/x-python",
   "name": "python",
   "nbconvert_exporter": "python",
   "pygments_lexer": "ipython3",
   "version": "3.9.13"
  }
 },
 "nbformat": 4,
 "nbformat_minor": 2
}
